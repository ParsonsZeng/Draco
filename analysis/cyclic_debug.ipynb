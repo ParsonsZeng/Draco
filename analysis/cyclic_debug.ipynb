{
 "cells": [
  {
   "cell_type": "code",
   "execution_count": 1,
   "metadata": {
    "collapsed": true
   },
   "outputs": [],
   "source": [
    "from coding import search_w\n",
    "\n",
    "import numpy as np\n",
    "from scipy import fftpack as FT"
   ]
  },
  {
   "cell_type": "markdown",
   "metadata": {},
   "source": [
    "# Let's debug Cyclic Code a bit"
   ]
  },
  {
   "cell_type": "markdown",
   "metadata": {},
   "source": [
    "## n = 7, s = 2, d = 10"
   ]
  },
  {
   "cell_type": "code",
   "execution_count": 29,
   "metadata": {
    "collapsed": true
   },
   "outputs": [],
   "source": [
    "# global variables:\n",
    "n = 7\n",
    "s = 2\n",
    "#d = 10\n",
    "d = 1"
   ]
  },
  {
   "cell_type": "code",
   "execution_count": 30,
   "metadata": {
    "collapsed": true
   },
   "outputs": [],
   "source": [
    "np.set_printoptions(precision=4,linewidth=200.0)\n",
    "W, fake_W, W_perp, S = search_w(n, s)"
   ]
  },
  {
   "cell_type": "code",
   "execution_count": 31,
   "metadata": {},
   "outputs": [
    {
     "name": "stdout",
     "output_type": "stream",
     "text": [
      "[[ 1.0000+0.j      1.0000+0.j      1.0000+0.j    ]\n",
      " [ 1.0000+0.j      0.6235+0.7818j -0.2225+0.9749j]\n",
      " [ 1.0000+0.j     -0.2225+0.9749j -0.9010-0.4339j]\n",
      " [ 1.0000+0.j     -0.9010+0.4339j  0.6235-0.7818j]\n",
      " [ 1.0000+0.j     -0.9010-0.4339j  0.6235+0.7818j]\n",
      " [ 1.0000+0.j     -0.2225-0.9749j -0.9010+0.4339j]\n",
      " [ 1.0000+0.j      0.6235-0.7818j -0.2225-0.9749j]]\n"
     ]
    }
   ],
   "source": [
    "def estimator_generator(n, s):\n",
    "    estimator = np.zeros((n, s+1), dtype=complex)\n",
    "    #z_gen_func = np.vectorize(lambda t: np.exp(-2*np.pi*t*1j/n))\n",
    "    z_gen_func = np.vectorize(lambda t: np.exp(2*np.pi*t*1j/n))\n",
    "    col1 = z_gen_func(np.arange(n))\n",
    "    for i in range(s+1):\n",
    "        estimator[:, i] = np.power(col1, i)\n",
    "    return estimator\n",
    "\n",
    "p_estimator = estimator_generator(n, s)\n",
    "print(p_estimator)"
   ]
  },
  {
   "cell_type": "markdown",
   "metadata": {},
   "source": [
    "## simulate epsilon here (assume worker 0 1 fails):"
   ]
  },
  {
   "cell_type": "code",
   "execution_count": 32,
   "metadata": {},
   "outputs": [
    {
     "name": "stdout",
     "output_type": "stream",
     "text": [
      "[[-100.+0.j]\n",
      " [-100.+0.j]\n",
      " [   0.+0.j]\n",
      " [   0.+0.j]\n",
      " [   0.+0.j]\n",
      " [   0.+0.j]\n",
      " [   0.+0.j]]\n"
     ]
    }
   ],
   "source": [
    "simulated_epsilon = np.zeros((n, d), dtype=complex)\n",
    "simulated_epsilon[0:2,:] = -100.0+0.0j\n",
    "print(simulated_epsilon)"
   ]
  },
  {
   "cell_type": "markdown",
   "metadata": {},
   "source": [
    "## obtain E_2 (simulated) here:"
   ]
  },
  {
   "cell_type": "code",
   "execution_count": 33,
   "metadata": {},
   "outputs": [
    {
     "name": "stdout",
     "output_type": "stream",
     "text": [
      "[[ -3.7430-16.3993j]\n",
      " [ -3.7430+16.3993j]\n",
      " [-29.3859+36.8488j]\n",
      " [-61.3621+29.5505j]]\n"
     ]
    }
   ],
   "source": [
    "simulated_E2 = np.dot(W_perp, simulated_epsilon)\n",
    "print(simulated_E2)"
   ]
  },
  {
   "cell_type": "markdown",
   "metadata": {},
   "source": [
    "## calculated a to get the full E matrix"
   ]
  },
  {
   "cell_type": "code",
   "execution_count": 34,
   "metadata": {},
   "outputs": [
    {
     "name": "stdout",
     "output_type": "stream",
     "text": [
      "Formulated X is :\n",
      "[[ -3.7430+16.3993j -29.3859+36.8488j]\n",
      " [ -3.7430-16.3993j  -3.7430+16.3993j]]\n",
      "\n",
      "Formulated y is :\n",
      "[[-61.3621+29.5505j]\n",
      " [-29.3859+36.8488j]]\n",
      "\n",
      "E_2 is: \n",
      "[[ -3.7430-16.3993j]\n",
      " [ -3.7430+16.3993j]\n",
      " [-29.3859+36.8488j]\n",
      " [-61.3621+29.5505j]]\n",
      "\n",
      "Polynomial a is: \n",
      "[-0.6235-0.7818j  1.6235+0.7818j  1.0000+0.j    ]\n"
     ]
    }
   ],
   "source": [
    "import copy\n",
    "poly_a = np.zeros(s+1, dtype=complex)\n",
    "poly_a[-1] = 1+0j\n",
    "fake_poly_a = copy.deepcopy(poly_a)\n",
    "# calculate a over here:\n",
    "E_2 = simulated_E2\n",
    "\n",
    "def _cls_solver(A, b):\n",
    "    return np.dot(np.dot(np.linalg.inv(np.dot(_array_getH(A), A)), _array_getH(A)),b)\n",
    "\n",
    "def _array_getH(ndarray):\n",
    "    # get conjugate transpose of a np.ndarray\n",
    "    return ndarray.conj().T\n",
    "\n",
    "_shape = E_2.shape\n",
    "_s = _shape[0]/2\n",
    "_d = _shape[1]\n",
    "_X = np.take(E_2, np.array([range(-i-(_s+1), -i-2+1) for i in range(_s)]).reshape(-1), axis=0).reshape((_s, _s*_d), order='F')\n",
    "# we use tmp_y as the start point to obtain the full E matrix\n",
    "tmp_y = np.take(E_2, np.array([-i-1 for i in range(_s)]), axis=0)\n",
    "_y = tmp_y.reshape(-1, order='F')\n",
    "alpha = _cls_solver(np.transpose(_X), _y.reshape(_y.shape[0], 1))\n",
    "poly_a[0:s] = alpha.reshape(-1)\n",
    "fake_poly_a[0:s] = -alpha.reshape(-1)\n",
    "\n",
    "# check matrix formula and calculated result:\n",
    "print(\"Formulated X is :\")\n",
    "print(np.transpose(_X))\n",
    "print\n",
    "print(\"Formulated y is :\")\n",
    "print(_y.reshape(_y.shape[0], 1))\n",
    "print\n",
    "print(\"E_2 is: \")\n",
    "print(E_2)\n",
    "print\n",
    "print(\"Polynomial a is: \")\n",
    "print(poly_a)"
   ]
  },
  {
   "cell_type": "code",
   "execution_count": 38,
   "metadata": {},
   "outputs": [
    {
     "name": "stdout",
     "output_type": "stream",
     "text": [
      "One dim of X_v2 [ -3.7430+16.3993j -29.3859+36.8488j  -3.7430-16.3993j  -3.7430+16.3993j]\n",
      "\n",
      "=======================================================\n",
      "[[ -3.7430+16.3993j]\n",
      " [-29.3859+36.8488j]\n",
      " [ -3.7430-16.3993j]\n",
      " [ -3.7430+16.3993j]]\n",
      "[-0.4982]\n",
      "=======================================================\n",
      "\n",
      "Combined X is [[  1.8648 -8.1701j   1.8648 +8.1701j]\n",
      " [ 14.6401-18.3581j   1.8648 -8.1701j]]\n",
      "\n",
      "solved a is: [[  1.4010e+00+0.8326j]\n",
      " [  2.2204e-16-2.5894j]]\n",
      "########################################################\n"
     ]
    }
   ],
   "source": [
    "_X_v2 = np.take(E_2, np.array([range(-i-(_s+1), -i-2+1) for i in range(_s)]).reshape(-1), axis=0)\n",
    "\n",
    "random_factor = np.random.normal(size=_d)\n",
    "print(\"One dim of X_v2 {}\".format(_X_v2[:, 0]))\n",
    "print\n",
    "aaa = np.dot(_X_v2, random_factor)\n",
    "print(\"=======================================================\")\n",
    "print(_X_v2)\n",
    "print(random_factor)\n",
    "print(\"=======================================================\")\n",
    "_X_v2_4solve = aaa.reshape((_s, _s), order='F')\n",
    "print\n",
    "print(\"Combined X is {}\".format(_X_v2_4solve))\n",
    "tmp_y = np.take(E_2, np.array([-i-1 for i in range(_s)]), axis=0)\n",
    "\n",
    "bbb = np.dot(tmp_y, random_factor)\n",
    "alpha = _cls_solver(_X_v2_4solve, bbb.reshape(bbb.shape[0], 1))\n",
    "print\n",
    "print(\"solved a is: {}\".format(alpha))\n",
    "print(\"########################################################\")"
   ]
  },
  {
   "cell_type": "code",
   "execution_count": 24,
   "metadata": {
    "collapsed": true
   },
   "outputs": [],
   "source": [
    "# function to obtain matrix E\n",
    "def obtain_E(alpha, E_2, s):\n",
    "    # obtain E_1 in shape of n-2s by d\n",
    "    _processing_y = np.transpose(E_2)[:, -s:]\n",
    "\n",
    "    for i in range(n-2*s):\n",
    "        tmp = np.dot(_processing_y[:,-s:], alpha)\n",
    "        print(\"Obtaining E[{}]\".format(i))\n",
    "        print(_processing_y[:,-s:])\n",
    "        print\n",
    "        print(\"Calculated Results:\")\n",
    "        print(tmp)\n",
    "        print\n",
    "        _processing_y = np.concatenate((_processing_y, tmp), axis=1)\n",
    "        #print(_processing_y[0,-s:])\n",
    "        #print('============================================================')\n",
    "    #print(_processing_y[0, s:])\n",
    "    #print(\"----------------------------------------------------------------\")\n",
    "    #exit()\n",
    "    return np.transpose(_processing_y[:, s:])\n",
    "\n",
    "# function to obtain epsilon\n",
    "def obtain_epsilon(E):\n",
    "    return FT.ifft(E, n=n, axis=0)"
   ]
  },
  {
   "cell_type": "markdown",
   "metadata": {},
   "source": [
    "## d=10 has too many dims? Let's look just one dimension then"
   ]
  },
  {
   "cell_type": "code",
   "execution_count": 25,
   "metadata": {},
   "outputs": [
    {
     "name": "stdout",
     "output_type": "stream",
     "text": [
      "Formulated X (d=1) is :\n",
      "[[ -3.7430+16.3993j -29.3859+36.8488j]\n",
      " [ -3.7430-16.3993j  -3.7430+16.3993j]]\n",
      "\n",
      "Formulated y is (d=1) :\n",
      "[[-61.3621+29.5505j]\n",
      " [-29.3859+36.8488j]]\n",
      "\n",
      "E_2 is: \n",
      "[ -3.7430-16.3993j  -3.7430+16.3993j -29.3859+36.8488j -61.3621+29.5505j]\n",
      "\n",
      "X * alpha, shoud equals to y\n",
      "[[-61.3621+29.5505j]\n",
      " [-29.3859+36.8488j]]\n"
     ]
    }
   ],
   "source": [
    "# if we look only one dimension: i.e. d=1\n",
    "# check matrix formula and calculated result:\n",
    "print(\"Formulated X (d=1) is :\")\n",
    "print(np.transpose(_X)[0:2, :])\n",
    "print\n",
    "print(\"Formulated y is (d=1) :\")\n",
    "print(_y.reshape(_y.shape[0], 1)[0:2])\n",
    "print\n",
    "print(\"E_2 is: \")\n",
    "print(E_2[:, 0])\n",
    "print\n",
    "print(\"X * alpha, shoud equals to y\")\n",
    "print(np.dot(np.transpose(_X)[0:2, :],alpha))"
   ]
  },
  {
   "cell_type": "markdown",
   "metadata": {},
   "source": [
    "# Test New Method"
   ]
  },
  {
   "cell_type": "code",
   "execution_count": 19,
   "metadata": {},
   "outputs": [
    {
     "name": "stdout",
     "output_type": "stream",
     "text": [
      "q_1 is (1+0j)\n",
      "q_2 is (0.623489801859-0.781831482468j)\n",
      "q_1_conj is (1-0j)\n",
      "q_2_conj is (0.623489801859+0.781831482468j)\n",
      "(-1.62348980186-0.781831482468j)\n",
      "(0.623489801859+0.781831482468j)\n",
      "\n",
      "The Correct polynomial should be: [(0.62348980185873359+0.7818314824680298j), (-1.6234898018587336-0.7818314824680298j), 1]\n",
      "The one we get is: [-0.6235-0.7818j  1.6235+0.7818j  1.0000+0.j    ]\n",
      "\n",
      "[ 0.0000 +0.0000e+00j -1.2225 +5.8874e-01j -0.6784 +2.9725e+00j  2.3705 +2.9725e+00j  3.0489 +4.4409e-16j  0.8460 -1.0609e+00j  0.0000 -1.1102e-16j]\n"
     ]
    }
   ],
   "source": [
    "q1 = np.exp(-2*np.pi*0*1j/n)\n",
    "q2 = np.exp(-2*np.pi*1*1j/n)\n",
    "q1_conj = np.conj(q1)\n",
    "q2_conj = np.conj(q2)\n",
    "print(\"q_1 is {}\".format(q1))\n",
    "print(\"q_2 is {}\".format(q2))\n",
    "print(\"q_1_conj is {}\".format(q1_conj))\n",
    "print(\"q_2_conj is {}\".format(q2_conj))\n",
    "#bbb = - (q1 + q2)\n",
    "#ccc = q1 * q2\n",
    "bbb = - (q1_conj + q2_conj)\n",
    "ccc = q1_conj * q2_conj\n",
    "print(bbb)\n",
    "print(ccc)\n",
    "print\n",
    "real_poly=[ccc, bbb, 1]\n",
    "print(\"The Correct polynomial should be: {}\".format(real_poly))\n",
    "print(\"The one we get is: {}\".format(poly_a))\n",
    "print\n",
    "print(np.dot(p_estimator, real_poly))"
   ]
  },
  {
   "cell_type": "code",
   "execution_count": 21,
   "metadata": {},
   "outputs": [
    {
     "name": "stdout",
     "output_type": "stream",
     "text": [
      "[ -1.3323e-15 -1.4433e-15j  -1.1657e-15 -1.2212e-15j   8.4601e-01 -1.0609e+00j   3.0489e+00 -1.5543e-15j   2.3705e+00 +2.9725e+00j  -6.7845e-01 +2.9725e+00j  -1.2225e+00 +5.8874e-01j]\n"
     ]
    }
   ],
   "source": [
    "#print(np.dot(p_estimator, poly_a))\n",
    "# if we let a = -a\n",
    "#print\n",
    "print(np.dot(p_estimator, fake_poly_a))"
   ]
  },
  {
   "cell_type": "markdown",
   "metadata": {},
   "source": [
    "## Full E matrix calculated"
   ]
  },
  {
   "cell_type": "code",
   "execution_count": 26,
   "metadata": {},
   "outputs": [
    {
     "name": "stdout",
     "output_type": "stream",
     "text": [
      "Obtaining E[0]\n",
      "[[-29.3859+36.8488j -61.3621+29.5505j]\n",
      " [-29.3859+36.8488j -61.3621+29.5505j]\n",
      " [-29.3859+36.8488j -61.3621+29.5505j]\n",
      " [-29.3859+36.8488j -61.3621+29.5505j]\n",
      " [-29.3859+36.8488j -61.3621+29.5505j]\n",
      " [-29.3859+36.8488j -61.3621+29.5505j]\n",
      " [-29.3859+36.8488j -61.3621+29.5505j]\n",
      " [-29.3859+36.8488j -61.3621+29.5505j]\n",
      " [-29.3859+36.8488j -61.3621+29.5505j]\n",
      " [-29.3859+36.8488j -61.3621+29.5505j]]\n",
      "\n",
      "Calculated Results:\n",
      "[[-75.5929 +8.6430e-15j]\n",
      " [-75.5929 +8.6430e-15j]\n",
      " [-75.5929 +8.6430e-15j]\n",
      " [-75.5929 +8.6430e-15j]\n",
      " [-75.5929 +8.6430e-15j]\n",
      " [-75.5929 +8.6430e-15j]\n",
      " [-75.5929 +8.6430e-15j]\n",
      " [-75.5929 +8.6430e-15j]\n",
      " [-75.5929 +8.6430e-15j]\n",
      " [-75.5929 +8.6430e-15j]]\n",
      "\n",
      "Obtaining E[1]\n",
      "[[-61.3621 +2.9550e+01j -75.5929 +8.6430e-15j]\n",
      " [-61.3621 +2.9550e+01j -75.5929 +8.6430e-15j]\n",
      " [-61.3621 +2.9550e+01j -75.5929 +8.6430e-15j]\n",
      " [-61.3621 +2.9550e+01j -75.5929 +8.6430e-15j]\n",
      " [-61.3621 +2.9550e+01j -75.5929 +8.6430e-15j]\n",
      " [-61.3621 +2.9550e+01j -75.5929 +8.6430e-15j]\n",
      " [-61.3621 +2.9550e+01j -75.5929 +8.6430e-15j]\n",
      " [-61.3621 +2.9550e+01j -75.5929 +8.6430e-15j]\n",
      " [-61.3621 +2.9550e+01j -75.5929 +8.6430e-15j]\n",
      " [-61.3621 +2.9550e+01j -75.5929 +8.6430e-15j]]\n",
      "\n",
      "Calculated Results:\n",
      "[[-61.3621-29.5505j]\n",
      " [-61.3621-29.5505j]\n",
      " [-61.3621-29.5505j]\n",
      " [-61.3621-29.5505j]\n",
      " [-61.3621-29.5505j]\n",
      " [-61.3621-29.5505j]\n",
      " [-61.3621-29.5505j]\n",
      " [-61.3621-29.5505j]\n",
      " [-61.3621-29.5505j]\n",
      " [-61.3621-29.5505j]]\n",
      "\n",
      "Obtaining E[2]\n",
      "[[-75.5929 +8.6430e-15j -61.3621 -2.9550e+01j]\n",
      " [-75.5929 +8.6430e-15j -61.3621 -2.9550e+01j]\n",
      " [-75.5929 +8.6430e-15j -61.3621 -2.9550e+01j]\n",
      " [-75.5929 +8.6430e-15j -61.3621 -2.9550e+01j]\n",
      " [-75.5929 +8.6430e-15j -61.3621 -2.9550e+01j]\n",
      " [-75.5929 +8.6430e-15j -61.3621 -2.9550e+01j]\n",
      " [-75.5929 +8.6430e-15j -61.3621 -2.9550e+01j]\n",
      " [-75.5929 +8.6430e-15j -61.3621 -2.9550e+01j]\n",
      " [-75.5929 +8.6430e-15j -61.3621 -2.9550e+01j]\n",
      " [-75.5929 +8.6430e-15j -61.3621 -2.9550e+01j]]\n",
      "\n",
      "Calculated Results:\n",
      "[[-29.3859-36.8488j]\n",
      " [-29.3859-36.8488j]\n",
      " [-29.3859-36.8488j]\n",
      " [-29.3859-36.8488j]\n",
      " [-29.3859-36.8488j]\n",
      " [-29.3859-36.8488j]\n",
      " [-29.3859-36.8488j]\n",
      " [-29.3859-36.8488j]\n",
      " [-29.3859-36.8488j]\n",
      " [-29.3859-36.8488j]]\n",
      "\n"
     ]
    }
   ],
   "source": [
    "# now let's find the whole E and also epsilon\n",
    "E_1=obtain_E(alpha, E_2, s)\n",
    "# concatenate E_1 and E_2 to obtain E\n",
    "E = np.concatenate((E_1, E_2), axis=0)\n",
    "\n",
    "epsilon = obtain_epsilon(E)\n",
    "\n",
    "#print(epsilon)"
   ]
  },
  {
   "cell_type": "markdown",
   "metadata": {},
   "source": [
    "## finally let's look at the epsilon matrix we get"
   ]
  },
  {
   "cell_type": "code",
   "execution_count": 27,
   "metadata": {},
   "outputs": [
    {
     "name": "stdout",
     "output_type": "stream",
     "text": [
      "[[ -3.7796e+01 -7.5910e-14j  -3.7796e+01 -7.5910e-14j  -3.7796e+01 -7.5910e-14j  -3.7796e+01 -7.5910e-14j  -3.7796e+01 -7.5910e-14j  -3.7796e+01 -7.5910e-14j  -3.7796e+01 -7.5910e-14j\n",
      "   -3.7796e+01 -7.5910e-14j  -3.7796e+01 -7.5910e-14j  -3.7796e+01 -7.5910e-14j]\n",
      " [  4.4663e-14 -7.8539e-14j   4.4663e-14 -7.8539e-14j   4.4663e-14 -7.8539e-14j   4.4663e-14 -7.8539e-14j   4.4663e-14 -7.8539e-14j   4.4663e-14 -7.8539e-14j   4.4663e-14 -7.8539e-14j\n",
      "    4.4663e-14 -7.8539e-14j   4.4663e-14 -7.8539e-14j   4.4663e-14 -7.8539e-14j]\n",
      " [  3.3116e-14 +4.4695e-14j   3.3116e-14 +4.4695e-14j   3.3116e-14 +4.4695e-14j   3.3116e-14 +4.4695e-14j   3.3116e-14 +4.4695e-14j   3.3116e-14 +4.4695e-14j   3.3116e-14 +4.4695e-14j\n",
      "    3.3116e-14 +4.4695e-14j   3.3116e-14 +4.4695e-14j   3.3116e-14 +4.4695e-14j]\n",
      " [ -5.1483e-14 +2.0802e-15j  -5.1483e-14 +2.0802e-15j  -5.1483e-14 +2.0802e-15j  -5.1483e-14 +2.0802e-15j  -5.1483e-14 +2.0802e-15j  -5.1483e-14 +2.0802e-15j  -5.1483e-14 +2.0802e-15j\n",
      "   -5.1483e-14 +2.0802e-15j  -5.1483e-14 +2.0802e-15j  -5.1483e-14 +2.0802e-15j]\n",
      " [  3.0737e-14 -4.7669e-14j   3.0737e-14 -4.7669e-14j   3.0737e-14 -4.7669e-14j   3.0737e-14 -4.7669e-14j   3.0737e-14 -4.7669e-14j   3.0737e-14 -4.7669e-14j   3.0737e-14 -4.7669e-14j\n",
      "    3.0737e-14 -4.7669e-14j   3.0737e-14 -4.7669e-14j   3.0737e-14 -4.7669e-14j]\n",
      " [  5.0372e-14 +7.3030e-14j   5.0372e-14 +7.3030e-14j   5.0372e-14 +7.3030e-14j   5.0372e-14 +7.3030e-14j   5.0372e-14 +7.3030e-14j   5.0372e-14 +7.3030e-14j   5.0372e-14 +7.3030e-14j\n",
      "    5.0372e-14 +7.3030e-14j   5.0372e-14 +7.3030e-14j   5.0372e-14 +7.3030e-14j]\n",
      " [ -3.7796e+01 +9.0956e-14j  -3.7796e+01 +9.0956e-14j  -3.7796e+01 +9.0956e-14j  -3.7796e+01 +9.0956e-14j  -3.7796e+01 +9.0956e-14j  -3.7796e+01 +9.0956e-14j  -3.7796e+01 +9.0956e-14j\n",
      "   -3.7796e+01 +9.0956e-14j  -3.7796e+01 +9.0956e-14j  -3.7796e+01 +9.0956e-14j]]\n"
     ]
    }
   ],
   "source": [
    "print(epsilon)"
   ]
  },
  {
   "cell_type": "markdown",
   "metadata": {},
   "source": [
    "## we if we give it a factor? say sqrt(n)"
   ]
  },
  {
   "cell_type": "code",
   "execution_count": 28,
   "metadata": {},
   "outputs": [
    {
     "name": "stdout",
     "output_type": "stream",
     "text": [
      "[[ -1.0000e+02 -2.0084e-13j  -1.0000e+02 -2.0084e-13j  -1.0000e+02 -2.0084e-13j  -1.0000e+02 -2.0084e-13j  -1.0000e+02 -2.0084e-13j  -1.0000e+02 -2.0084e-13j  -1.0000e+02 -2.0084e-13j\n",
      "   -1.0000e+02 -2.0084e-13j  -1.0000e+02 -2.0084e-13j  -1.0000e+02 -2.0084e-13j]\n",
      " [  1.1817e-13 -2.0779e-13j   1.1817e-13 -2.0779e-13j   1.1817e-13 -2.0779e-13j   1.1817e-13 -2.0779e-13j   1.1817e-13 -2.0779e-13j   1.1817e-13 -2.0779e-13j   1.1817e-13 -2.0779e-13j\n",
      "    1.1817e-13 -2.0779e-13j   1.1817e-13 -2.0779e-13j   1.1817e-13 -2.0779e-13j]\n",
      " [  8.7618e-14 +1.1825e-13j   8.7618e-14 +1.1825e-13j   8.7618e-14 +1.1825e-13j   8.7618e-14 +1.1825e-13j   8.7618e-14 +1.1825e-13j   8.7618e-14 +1.1825e-13j   8.7618e-14 +1.1825e-13j\n",
      "    8.7618e-14 +1.1825e-13j   8.7618e-14 +1.1825e-13j   8.7618e-14 +1.1825e-13j]\n",
      " [ -1.3621e-13 +5.5038e-15j  -1.3621e-13 +5.5038e-15j  -1.3621e-13 +5.5038e-15j  -1.3621e-13 +5.5038e-15j  -1.3621e-13 +5.5038e-15j  -1.3621e-13 +5.5038e-15j  -1.3621e-13 +5.5038e-15j\n",
      "   -1.3621e-13 +5.5038e-15j  -1.3621e-13 +5.5038e-15j  -1.3621e-13 +5.5038e-15j]\n",
      " [  8.1323e-14 -1.2612e-13j   8.1323e-14 -1.2612e-13j   8.1323e-14 -1.2612e-13j   8.1323e-14 -1.2612e-13j   8.1323e-14 -1.2612e-13j   8.1323e-14 -1.2612e-13j   8.1323e-14 -1.2612e-13j\n",
      "    8.1323e-14 -1.2612e-13j   8.1323e-14 -1.2612e-13j   8.1323e-14 -1.2612e-13j]\n",
      " [  1.3327e-13 +1.9322e-13j   1.3327e-13 +1.9322e-13j   1.3327e-13 +1.9322e-13j   1.3327e-13 +1.9322e-13j   1.3327e-13 +1.9322e-13j   1.3327e-13 +1.9322e-13j   1.3327e-13 +1.9322e-13j\n",
      "    1.3327e-13 +1.9322e-13j   1.3327e-13 +1.9322e-13j   1.3327e-13 +1.9322e-13j]\n",
      " [ -1.0000e+02 +2.4065e-13j  -1.0000e+02 +2.4065e-13j  -1.0000e+02 +2.4065e-13j  -1.0000e+02 +2.4065e-13j  -1.0000e+02 +2.4065e-13j  -1.0000e+02 +2.4065e-13j  -1.0000e+02 +2.4065e-13j\n",
      "   -1.0000e+02 +2.4065e-13j  -1.0000e+02 +2.4065e-13j  -1.0000e+02 +2.4065e-13j]]\n"
     ]
    }
   ],
   "source": [
    "print(np.sqrt(n)*epsilon)"
   ]
  },
  {
   "cell_type": "code",
   "execution_count": 29,
   "metadata": {},
   "outputs": [
    {
     "name": "stdout",
     "output_type": "stream",
     "text": [
      "[[ -1.0000e+02 +2.4065e-13j  -1.0000e+02 +2.4065e-13j  -1.0000e+02 +2.4065e-13j  -1.0000e+02 +2.4065e-13j  -1.0000e+02 +2.4065e-13j  -1.0000e+02 +2.4065e-13j  -1.0000e+02 +2.4065e-13j\n",
      "   -1.0000e+02 +2.4065e-13j  -1.0000e+02 +2.4065e-13j  -1.0000e+02 +2.4065e-13j]\n",
      " [ -1.0000e+02 -2.0084e-13j  -1.0000e+02 -2.0084e-13j  -1.0000e+02 -2.0084e-13j  -1.0000e+02 -2.0084e-13j  -1.0000e+02 -2.0084e-13j  -1.0000e+02 -2.0084e-13j  -1.0000e+02 -2.0084e-13j\n",
      "   -1.0000e+02 -2.0084e-13j  -1.0000e+02 -2.0084e-13j  -1.0000e+02 -2.0084e-13j]\n",
      " [  1.1817e-13 -2.0779e-13j   1.1817e-13 -2.0779e-13j   1.1817e-13 -2.0779e-13j   1.1817e-13 -2.0779e-13j   1.1817e-13 -2.0779e-13j   1.1817e-13 -2.0779e-13j   1.1817e-13 -2.0779e-13j\n",
      "    1.1817e-13 -2.0779e-13j   1.1817e-13 -2.0779e-13j   1.1817e-13 -2.0779e-13j]\n",
      " [  8.7618e-14 +1.1825e-13j   8.7618e-14 +1.1825e-13j   8.7618e-14 +1.1825e-13j   8.7618e-14 +1.1825e-13j   8.7618e-14 +1.1825e-13j   8.7618e-14 +1.1825e-13j   8.7618e-14 +1.1825e-13j\n",
      "    8.7618e-14 +1.1825e-13j   8.7618e-14 +1.1825e-13j   8.7618e-14 +1.1825e-13j]\n",
      " [ -1.3621e-13 +5.5038e-15j  -1.3621e-13 +5.5038e-15j  -1.3621e-13 +5.5038e-15j  -1.3621e-13 +5.5038e-15j  -1.3621e-13 +5.5038e-15j  -1.3621e-13 +5.5038e-15j  -1.3621e-13 +5.5038e-15j\n",
      "   -1.3621e-13 +5.5038e-15j  -1.3621e-13 +5.5038e-15j  -1.3621e-13 +5.5038e-15j]\n",
      " [  8.1323e-14 -1.2612e-13j   8.1323e-14 -1.2612e-13j   8.1323e-14 -1.2612e-13j   8.1323e-14 -1.2612e-13j   8.1323e-14 -1.2612e-13j   8.1323e-14 -1.2612e-13j   8.1323e-14 -1.2612e-13j\n",
      "    8.1323e-14 -1.2612e-13j   8.1323e-14 -1.2612e-13j   8.1323e-14 -1.2612e-13j]\n",
      " [  1.3327e-13 +1.9322e-13j   1.3327e-13 +1.9322e-13j   1.3327e-13 +1.9322e-13j   1.3327e-13 +1.9322e-13j   1.3327e-13 +1.9322e-13j   1.3327e-13 +1.9322e-13j   1.3327e-13 +1.9322e-13j\n",
      "    1.3327e-13 +1.9322e-13j   1.3327e-13 +1.9322e-13j   1.3327e-13 +1.9322e-13j]]\n"
     ]
    }
   ],
   "source": [
    "# let's try to fix it\n",
    "tmp = np.sqrt(n)*epsilon\n",
    "a = np.roll(tmp, s-1, axis=0)\n",
    "print(a)"
   ]
  },
  {
   "cell_type": "code",
   "execution_count": null,
   "metadata": {
    "collapsed": true
   },
   "outputs": [],
   "source": []
  }
 ],
 "metadata": {
  "kernelspec": {
   "display_name": "Python 2",
   "language": "python",
   "name": "python2"
  },
  "language_info": {
   "codemirror_mode": {
    "name": "ipython",
    "version": 2
   },
   "file_extension": ".py",
   "mimetype": "text/x-python",
   "name": "python",
   "nbconvert_exporter": "python",
   "pygments_lexer": "ipython2",
   "version": "2.7.13"
  }
 },
 "nbformat": 4,
 "nbformat_minor": 2
}
