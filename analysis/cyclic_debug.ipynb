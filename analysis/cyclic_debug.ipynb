{
 "cells": [
  {
   "cell_type": "code",
   "execution_count": 8,
   "metadata": {
    "collapsed": true
   },
   "outputs": [],
   "source": [
    "from coding import search_w\n",
    "\n",
    "import numpy as np\n",
    "from scipy import fftpack as FT"
   ]
  },
  {
   "cell_type": "markdown",
   "metadata": {},
   "source": [
    "# Let's debug Cyclic Code a bit"
   ]
  },
  {
   "cell_type": "markdown",
   "metadata": {},
   "source": [
    "## n = 7, s = 2, d = 10"
   ]
  },
  {
   "cell_type": "code",
   "execution_count": 9,
   "metadata": {
    "collapsed": true
   },
   "outputs": [],
   "source": [
    "# global variables:\n",
    "n = 7\n",
    "s = 2\n",
    "d = 10\n",
    "#d = 1"
   ]
  },
  {
   "cell_type": "code",
   "execution_count": 10,
   "metadata": {},
   "outputs": [],
   "source": [
    "np.set_printoptions(precision=4,linewidth=200.0)\n",
    "W, fake_W, W_perp, S, C_1 = search_w(n, s)"
   ]
  },
  {
   "cell_type": "code",
   "execution_count": 11,
   "metadata": {},
   "outputs": [
    {
     "name": "stdout",
     "output_type": "stream",
     "text": [
      "[[ 1.0000+0.j      1.0000+0.j      1.0000+0.j    ]\n",
      " [ 1.0000+0.j      0.6235+0.7818j -0.2225+0.9749j]\n",
      " [ 1.0000+0.j     -0.2225+0.9749j -0.9010-0.4339j]\n",
      " [ 1.0000+0.j     -0.9010+0.4339j  0.6235-0.7818j]\n",
      " [ 1.0000+0.j     -0.9010-0.4339j  0.6235+0.7818j]\n",
      " [ 1.0000+0.j     -0.2225-0.9749j -0.9010+0.4339j]\n",
      " [ 1.0000+0.j      0.6235-0.7818j -0.2225-0.9749j]]\n"
     ]
    }
   ],
   "source": [
    "def estimator_generator(n, s):\n",
    "    estimator = np.zeros((n, s+1), dtype=complex)\n",
    "    #z_gen_func = np.vectorize(lambda t: np.exp(-2*np.pi*t*1j/n))\n",
    "    z_gen_func = np.vectorize(lambda t: np.exp(2*np.pi*t*1j/n))\n",
    "    col1 = z_gen_func(np.arange(n))\n",
    "    for i in range(s+1):\n",
    "        estimator[:, i] = np.power(col1, i)\n",
    "    return estimator\n",
    "\n",
    "p_estimator = estimator_generator(n, s)\n",
    "print(p_estimator)"
   ]
  },
  {
   "cell_type": "markdown",
   "metadata": {},
   "source": [
    "## simulate epsilon here (assume worker 0 1 fails):"
   ]
  },
  {
   "cell_type": "code",
   "execution_count": 12,
   "metadata": {},
   "outputs": [
    {
     "name": "stdout",
     "output_type": "stream",
     "text": [
      "[[-100.+0.j -100.+0.j -100.+0.j -100.+0.j -100.+0.j -100.+0.j -100.+0.j -100.+0.j -100.+0.j -100.+0.j]\n",
      " [-100.+0.j -100.+0.j -100.+0.j -100.+0.j -100.+0.j -100.+0.j -100.+0.j -100.+0.j -100.+0.j -100.+0.j]\n",
      " [   0.+0.j    0.+0.j    0.+0.j    0.+0.j    0.+0.j    0.+0.j    0.+0.j    0.+0.j    0.+0.j    0.+0.j]\n",
      " [   0.+0.j    0.+0.j    0.+0.j    0.+0.j    0.+0.j    0.+0.j    0.+0.j    0.+0.j    0.+0.j    0.+0.j]\n",
      " [   0.+0.j    0.+0.j    0.+0.j    0.+0.j    0.+0.j    0.+0.j    0.+0.j    0.+0.j    0.+0.j    0.+0.j]\n",
      " [   0.+0.j    0.+0.j    0.+0.j    0.+0.j    0.+0.j    0.+0.j    0.+0.j    0.+0.j    0.+0.j    0.+0.j]\n",
      " [   0.+0.j    0.+0.j    0.+0.j    0.+0.j    0.+0.j    0.+0.j    0.+0.j    0.+0.j    0.+0.j    0.+0.j]]\n"
     ]
    }
   ],
   "source": [
    "simulated_epsilon = np.zeros((n, d), dtype=complex)\n",
    "simulated_epsilon[0:2,:] = -100.0+0.0j\n",
    "print(simulated_epsilon)"
   ]
  },
  {
   "cell_type": "markdown",
   "metadata": {},
   "source": [
    "## obtain E_2 (simulated) here:"
   ]
  },
  {
   "cell_type": "code",
   "execution_count": 13,
   "metadata": {},
   "outputs": [
    {
     "name": "stdout",
     "output_type": "stream",
     "text": [
      "[[ -3.7430-16.3993j  -3.7430-16.3993j  -3.7430-16.3993j  -3.7430-16.3993j  -3.7430-16.3993j  -3.7430-16.3993j  -3.7430-16.3993j  -3.7430-16.3993j  -3.7430-16.3993j  -3.7430-16.3993j]\n",
      " [ -3.7430+16.3993j  -3.7430+16.3993j  -3.7430+16.3993j  -3.7430+16.3993j  -3.7430+16.3993j  -3.7430+16.3993j  -3.7430+16.3993j  -3.7430+16.3993j  -3.7430+16.3993j  -3.7430+16.3993j]\n",
      " [-29.3859+36.8488j -29.3859+36.8488j -29.3859+36.8488j -29.3859+36.8488j -29.3859+36.8488j -29.3859+36.8488j -29.3859+36.8488j -29.3859+36.8488j -29.3859+36.8488j -29.3859+36.8488j]\n",
      " [-61.3621+29.5505j -61.3621+29.5505j -61.3621+29.5505j -61.3621+29.5505j -61.3621+29.5505j -61.3621+29.5505j -61.3621+29.5505j -61.3621+29.5505j -61.3621+29.5505j -61.3621+29.5505j]]\n"
     ]
    }
   ],
   "source": [
    "simulated_E2 = np.dot(W_perp, simulated_epsilon)\n",
    "print(simulated_E2)"
   ]
  },
  {
   "cell_type": "markdown",
   "metadata": {},
   "source": [
    "## calculated a to get the full E matrix"
   ]
  },
  {
   "cell_type": "code",
   "execution_count": 14,
   "metadata": {},
   "outputs": [
    {
     "name": "stdout",
     "output_type": "stream",
     "text": [
      "Formulated X is :\n",
      "[[ -3.7430+16.3993j -29.3859+36.8488j]\n",
      " [ -3.7430-16.3993j  -3.7430+16.3993j]\n",
      " [ -3.7430+16.3993j -29.3859+36.8488j]\n",
      " [ -3.7430-16.3993j  -3.7430+16.3993j]\n",
      " [ -3.7430+16.3993j -29.3859+36.8488j]\n",
      " [ -3.7430-16.3993j  -3.7430+16.3993j]\n",
      " [ -3.7430+16.3993j -29.3859+36.8488j]\n",
      " [ -3.7430-16.3993j  -3.7430+16.3993j]\n",
      " [ -3.7430+16.3993j -29.3859+36.8488j]\n",
      " [ -3.7430-16.3993j  -3.7430+16.3993j]\n",
      " [ -3.7430+16.3993j -29.3859+36.8488j]\n",
      " [ -3.7430-16.3993j  -3.7430+16.3993j]\n",
      " [ -3.7430+16.3993j -29.3859+36.8488j]\n",
      " [ -3.7430-16.3993j  -3.7430+16.3993j]\n",
      " [ -3.7430+16.3993j -29.3859+36.8488j]\n",
      " [ -3.7430-16.3993j  -3.7430+16.3993j]\n",
      " [ -3.7430+16.3993j -29.3859+36.8488j]\n",
      " [ -3.7430-16.3993j  -3.7430+16.3993j]\n",
      " [ -3.7430+16.3993j -29.3859+36.8488j]\n",
      " [ -3.7430-16.3993j  -3.7430+16.3993j]]\n",
      "\n",
      "Formulated y is :\n",
      "[[-61.3621+29.5505j]\n",
      " [-29.3859+36.8488j]\n",
      " [-61.3621+29.5505j]\n",
      " [-29.3859+36.8488j]\n",
      " [-61.3621+29.5505j]\n",
      " [-29.3859+36.8488j]\n",
      " [-61.3621+29.5505j]\n",
      " [-29.3859+36.8488j]\n",
      " [-61.3621+29.5505j]\n",
      " [-29.3859+36.8488j]\n",
      " [-61.3621+29.5505j]\n",
      " [-29.3859+36.8488j]\n",
      " [-61.3621+29.5505j]\n",
      " [-29.3859+36.8488j]\n",
      " [-61.3621+29.5505j]\n",
      " [-29.3859+36.8488j]\n",
      " [-61.3621+29.5505j]\n",
      " [-29.3859+36.8488j]\n",
      " [-61.3621+29.5505j]\n",
      " [-29.3859+36.8488j]]\n",
      "\n",
      "E_2 is: \n",
      "[[ -3.7430-16.3993j  -3.7430-16.3993j  -3.7430-16.3993j  -3.7430-16.3993j  -3.7430-16.3993j  -3.7430-16.3993j  -3.7430-16.3993j  -3.7430-16.3993j  -3.7430-16.3993j  -3.7430-16.3993j]\n",
      " [ -3.7430+16.3993j  -3.7430+16.3993j  -3.7430+16.3993j  -3.7430+16.3993j  -3.7430+16.3993j  -3.7430+16.3993j  -3.7430+16.3993j  -3.7430+16.3993j  -3.7430+16.3993j  -3.7430+16.3993j]\n",
      " [-29.3859+36.8488j -29.3859+36.8488j -29.3859+36.8488j -29.3859+36.8488j -29.3859+36.8488j -29.3859+36.8488j -29.3859+36.8488j -29.3859+36.8488j -29.3859+36.8488j -29.3859+36.8488j]\n",
      " [-61.3621+29.5505j -61.3621+29.5505j -61.3621+29.5505j -61.3621+29.5505j -61.3621+29.5505j -61.3621+29.5505j -61.3621+29.5505j -61.3621+29.5505j -61.3621+29.5505j -61.3621+29.5505j]]\n",
      "\n",
      "Polynomial a is: \n",
      "[-0.6235-0.7818j  1.6235+0.7818j  1.0000+0.j    ]\n"
     ]
    }
   ],
   "source": [
    "import copy\n",
    "poly_a = np.zeros(s+1, dtype=complex)\n",
    "poly_a[-1] = 1+0j\n",
    "fake_poly_a = copy.deepcopy(poly_a)\n",
    "# calculate a over here:\n",
    "E_2 = simulated_E2\n",
    "\n",
    "def _cls_solver(A, b):\n",
    "    return np.dot(np.dot(np.linalg.inv(np.dot(_array_getH(A), A)), _array_getH(A)),b)\n",
    "\n",
    "def _array_getH(ndarray):\n",
    "    # get conjugate transpose of a np.ndarray\n",
    "    return ndarray.conj().T\n",
    "\n",
    "_shape = E_2.shape\n",
    "_s = _shape[0]/2\n",
    "_d = _shape[1]\n",
    "_X = np.take(E_2, np.array([range(-i-(_s+1), -i-2+1) for i in range(_s)]).reshape(-1), axis=0).reshape((_s, _s*_d), order='F')\n",
    "# we use tmp_y as the start point to obtain the full E matrix\n",
    "tmp_y = np.take(E_2, np.array([-i-1 for i in range(_s)]), axis=0)\n",
    "_y = tmp_y.reshape(-1, order='F')\n",
    "alpha_normal = _cls_solver(np.transpose(_X), _y.reshape(_y.shape[0], 1))\n",
    "poly_a[0:s] = alpha_normal.reshape(-1)\n",
    "fake_poly_a[0:s] = -alpha_normal.reshape(-1)\n",
    "\n",
    "# check matrix formula and calculated result:\n",
    "print(\"Formulated X is :\")\n",
    "print(np.transpose(_X))\n",
    "print\n",
    "print(\"Formulated y is :\")\n",
    "print(_y.reshape(_y.shape[0], 1))\n",
    "print\n",
    "print(\"E_2 is: \")\n",
    "print(E_2)\n",
    "print\n",
    "print(\"Polynomial a is: \")\n",
    "print(poly_a)"
   ]
  },
  {
   "cell_type": "code",
   "execution_count": 15,
   "metadata": {
    "collapsed": true
   },
   "outputs": [],
   "source": [
    "# function to obtain matrix E\n",
    "def obtain_E(alpha, E_2, s):\n",
    "    # obtain E_1 in shape of n-2s by d\n",
    "    _processing_y = np.transpose(E_2)[:, -s:]\n",
    "\n",
    "    for i in range(n-2*s):\n",
    "        tmp = np.dot(_processing_y[:,-s:], alpha)\n",
    "        print(\"Obtaining E[{}]\".format(i))\n",
    "        print(_processing_y[:,-s:])\n",
    "        print\n",
    "        print(\"Calculated Results:\")\n",
    "        print(tmp)\n",
    "        print\n",
    "        _processing_y = np.concatenate((_processing_y, tmp), axis=1)\n",
    "        #print(_processing_y[0,-s:])\n",
    "        #print('============================================================')\n",
    "    #print(_processing_y[0, s:])\n",
    "    #print(\"----------------------------------------------------------------\")\n",
    "    #exit()\n",
    "    return np.transpose(_processing_y[:, s:])\n",
    "\n",
    "# function to obtain epsilon\n",
    "def obtain_epsilon(E):\n",
    "    return FT.ifft(E, n=n, axis=0)"
   ]
  },
  {
   "cell_type": "markdown",
   "metadata": {},
   "source": [
    "# Test New Method"
   ]
  },
  {
   "cell_type": "code",
   "execution_count": 19,
   "metadata": {},
   "outputs": [
    {
     "name": "stdout",
     "output_type": "stream",
     "text": [
      "Poly solved by Numpy: \n",
      "[ 0.6235+0.7818j -1.6235-0.7818j  1.0000+0.j    ]\n",
      "\n",
      "q_1 is (1+0j)\n",
      "q_2 is (0.623489801859+0.781831482468j)\n",
      "q_1_conj is (1-0j)\n",
      "q_2_conj is (0.623489801859-0.781831482468j)\n",
      "(-1.62348980186-0.781831482468j)\n",
      "(0.623489801859+0.781831482468j)\n",
      "\n",
      "The Correct polynomial should be: [(0.62348980185873359+0.7818314824680298j), (-1.6234898018587336-0.7818314824680298j), 1]\n",
      "The one we get is: [-0.6235-0.7818j  1.6235+0.7818j  1.0000+0.j    ]\n",
      "\n",
      "[ 0.0000 +0.0000e+00j  0.0000 +1.1102e-16j  0.8460 -1.0609e+00j  3.0489 -4.4409e-16j  2.3705 +2.9725e+00j -0.6784 +2.9725e+00j -1.2225 +5.8874e-01j]\n"
     ]
    }
   ],
   "source": [
    "from numpy.polynomial import polynomial as P\n",
    "#q1 = np.exp(-2*np.pi*0*1j/n)\n",
    "#q2 = np.exp(-2*np.pi*1*1j/n)\n",
    "q1 = np.exp(2*np.pi*0*1j/n)\n",
    "q2 = np.exp(2*np.pi*1*1j/n)\n",
    "roots = [q1, q2]\n",
    "np_poly=P.polyfromroots(roots)\n",
    "print(\"Poly solved by Numpy: \")\n",
    "print(np_poly)\n",
    "print\n",
    "q1_conj = np.conj(q1)\n",
    "q2_conj = np.conj(q2)\n",
    "print(\"q_1 is {}\".format(q1))\n",
    "print(\"q_2 is {}\".format(q2))\n",
    "print(\"q_1_conj is {}\".format(q1_conj))\n",
    "print(\"q_2_conj is {}\".format(q2_conj))\n",
    "bbb = - (q1 + q2)\n",
    "ccc = q1 * q2\n",
    "#bbb = - (q1_conj + q2_conj)\n",
    "#ccc = q1_conj * q2_conj\n",
    "print(bbb)\n",
    "print(ccc)\n",
    "print\n",
    "real_poly=[ccc, bbb, 1]\n",
    "print(\"The Correct polynomial should be: {}\".format(real_poly))\n",
    "print(\"The one we get is: {}\".format(poly_a))\n",
    "print\n",
    "print(np.dot(p_estimator, real_poly))"
   ]
  },
  {
   "cell_type": "code",
   "execution_count": 38,
   "metadata": {},
   "outputs": [
    {
     "name": "stdout",
     "output_type": "stream",
     "text": [
      "================================================================================\n",
      "Step 0: The results we test the zeros points: \n",
      "[ -1.3323e-15 -1.4433e-15j  -1.1657e-15 -1.2212e-15j   8.4601e-01 -1.0609e+00j   3.0489e+00 -1.5543e-15j   2.3705e+00 +2.9725e+00j  -6.7845e-01 +2.9725e+00j  -1.2225e+00 +5.8874e-01j]\n",
      "================================================================================\n",
      "\n",
      "================================================================================\n",
      "Step 1: C_1 matrix we have: \n",
      "[[ 0.3780+0.j      0.3780+0.j      0.3780+0.j    ]\n",
      " [ 0.3780+0.j      0.2357-0.2955j -0.0841-0.3685j]\n",
      " [ 0.3780+0.j     -0.0841-0.3685j -0.3405+0.164j ]\n",
      " [ 0.3780+0.j     -0.3405-0.164j   0.2357+0.2955j]\n",
      " [ 0.3780+0.j     -0.3405+0.164j   0.2357-0.2955j]\n",
      " [ 0.3780+0.j     -0.0841+0.3685j -0.3405-0.164j ]\n",
      " [ 0.3780+0.j      0.2357+0.2955j -0.0841+0.3685j]]\n",
      "================================================================================\n",
      "\n",
      "================================================================================\n",
      "Step 2: (n-2s)by(n-2s) matrix we get: \n",
      "[[ 0.3780+0.j     -0.0841-0.3685j -0.3405+0.164j ]\n",
      " [ 0.3780+0.j     -0.3405-0.164j   0.2357+0.2955j]\n",
      " [ 0.3780+0.j     -0.3405+0.164j   0.2357-0.2955j]]\n",
      "================================================================================\n",
      "\n",
      "================================================================================\n",
      "Step 3: inv of the (n-2s)by(n-2s) matrix: \n",
      "[[-0.4339 +1.9010e+00j  3.5135 -1.1749e-15j -0.4339 -1.9010e+00j]\n",
      " [-0.7818 +3.4254e+00j  3.9474 -1.9010e+00j -3.1656 -1.5245e+00j]\n",
      " [-0.4339 +1.9010e+00j  2.1906 -2.7470e+00j -1.7568 +8.4601e-01j]]\n",
      "check result: \n",
      "[[  1.0000e+00 -4.1243e-16j   2.2204e-16 +3.3307e-16j  -1.1102e-16 -2.2204e-16j]\n",
      " [ -1.9243e-16 +2.7883e-17j   1.0000e+00 -2.2204e-16j   0.0000e+00 +0.0000e+00j]\n",
      " [ -7.2364e-17 +5.1518e-18j   4.1633e-17 +5.5511e-17j   1.0000e+00 +0.0000e+00j]]\n",
      "================================================================================\n",
      "\n",
      "================================================================================\n",
      "Step 4: [0, ..., 1] vec we use: \n",
      "[[ 0.  0.  1.]]\n",
      "dot product it with inv :\n",
      "[[-0.4339+1.901j  2.1906-2.747j -1.7568+0.846j]]\n",
      "================================================================================\n",
      "\n",
      "================================================================================\n",
      "Step 5: insert zeros to appropriate positions \n",
      "[[ 0.0000+0.j     0.0000+0.j    -0.4339+1.901j  2.1906-2.747j -1.7568+0.846j  0.0000+0.j     0.0000+0.j   ]]\n",
      "================================================================================\n",
      "\n"
     ]
    }
   ],
   "source": [
    "_row_vec = np.zeros((1, n-2*s))\n",
    "_row_vec[0][-1]=1\n",
    "_recover_final=np.zeros((1,n),dtype=complex)\n",
    "#print(np.dot(p_estimator, poly_a))\n",
    "# if we let a = -a\n",
    "#print\n",
    "#print(np.dot(p_estimator, fake_poly_a))\n",
    "print(\"=\"*80)\n",
    "estimation = np.dot(p_estimator, fake_poly_a)\n",
    "print(\"Step 0: The results we test the zeros points: \")\n",
    "print(estimation)\n",
    "print(\"=\"*80)\n",
    "print\n",
    "err_indices = [i for i, elem in enumerate(estimation) if (elem.real > 1e-10 or elem.imag > 1e-10)]\n",
    "print(\"=\"*80)\n",
    "print(\"Step 1: C_1 matrix we have: \")\n",
    "print(C_1)\n",
    "print(\"=\"*80)\n",
    "print\n",
    "recover=C_1.take(err_indices, axis=0).take(np.arange(n-2*s),axis=0)\n",
    "print(\"=\"*80)\n",
    "print(\"Step 2: (n-2s)by(n-2s) matrix we get: \")\n",
    "print(recover)\n",
    "print(\"=\"*80)\n",
    "print\n",
    "remaining_indices = err_indices[0:n-2*s]\n",
    "\n",
    "inv_recover=np.linalg.inv(recover)\n",
    "print(\"=\"*80)\n",
    "print(\"Step 3: inv of the (n-2s)by(n-2s) matrix: \")\n",
    "print(inv_recover)\n",
    "print(\"check result: \")\n",
    "print(np.dot(inv_recover, recover))\n",
    "print(\"=\"*80)\n",
    "print\n",
    "\n",
    "row_recover = np.dot(_row_vec, inv_recover)\n",
    "print(\"=\"*80)\n",
    "print(\"Step 4: [0, ..., 1] vec we use: \")\n",
    "print(_row_vec)\n",
    "print(\"dot product it with inv :\")\n",
    "print(row_recover)\n",
    "print(\"=\"*80)\n",
    "print\n",
    "\n",
    "\n",
    "_recover_final[0][[remaining_indices]] = row_recover[0]\n",
    "print(\"=\"*80)\n",
    "print(\"Step 5: insert zeros to appropriate positions \")\n",
    "print(_recover_final)\n",
    "print(\"=\"*80)\n",
    "print\n",
    "#decoded_grad = np.dot(_recover_final, R)"
   ]
  },
  {
   "cell_type": "markdown",
   "metadata": {},
   "source": [
    "True 1 traspose * G: <br />\n",
    "[[ 0.0006 +0.0000e+00j  0.0006 +0.0000e+00j  0.0006 +0.0000e+00j ...,  0.0007 +6.7763e-21j  0.0007 +6.7763e-21j  0.0007 +6.7763e-21j]]\n",
    "\n",
    "The results we get:  <br />\n",
    "[ -2.8031e-04 -1.8633e-05j  -2.8031e-04 -1.8633e-05j  -2.8031e-04 -1.8633e-05j ...,  -4.5684e-05 -1.5724e-04j  -4.5684e-05 -1.5724e-04j  -4.5684e-05 -1.5724e-04j]"
   ]
  },
  {
   "cell_type": "markdown",
   "metadata": {},
   "source": [
    "## Full E matrix calculated"
   ]
  },
  {
   "cell_type": "code",
   "execution_count": 26,
   "metadata": {},
   "outputs": [
    {
     "name": "stdout",
     "output_type": "stream",
     "text": [
      "Obtaining E[0]\n",
      "[[-29.3859+36.8488j -61.3621+29.5505j]\n",
      " [-29.3859+36.8488j -61.3621+29.5505j]\n",
      " [-29.3859+36.8488j -61.3621+29.5505j]\n",
      " [-29.3859+36.8488j -61.3621+29.5505j]\n",
      " [-29.3859+36.8488j -61.3621+29.5505j]\n",
      " [-29.3859+36.8488j -61.3621+29.5505j]\n",
      " [-29.3859+36.8488j -61.3621+29.5505j]\n",
      " [-29.3859+36.8488j -61.3621+29.5505j]\n",
      " [-29.3859+36.8488j -61.3621+29.5505j]\n",
      " [-29.3859+36.8488j -61.3621+29.5505j]]\n",
      "\n",
      "Calculated Results:\n",
      "[[-75.5929 +8.6430e-15j]\n",
      " [-75.5929 +8.6430e-15j]\n",
      " [-75.5929 +8.6430e-15j]\n",
      " [-75.5929 +8.6430e-15j]\n",
      " [-75.5929 +8.6430e-15j]\n",
      " [-75.5929 +8.6430e-15j]\n",
      " [-75.5929 +8.6430e-15j]\n",
      " [-75.5929 +8.6430e-15j]\n",
      " [-75.5929 +8.6430e-15j]\n",
      " [-75.5929 +8.6430e-15j]]\n",
      "\n",
      "Obtaining E[1]\n",
      "[[-61.3621 +2.9550e+01j -75.5929 +8.6430e-15j]\n",
      " [-61.3621 +2.9550e+01j -75.5929 +8.6430e-15j]\n",
      " [-61.3621 +2.9550e+01j -75.5929 +8.6430e-15j]\n",
      " [-61.3621 +2.9550e+01j -75.5929 +8.6430e-15j]\n",
      " [-61.3621 +2.9550e+01j -75.5929 +8.6430e-15j]\n",
      " [-61.3621 +2.9550e+01j -75.5929 +8.6430e-15j]\n",
      " [-61.3621 +2.9550e+01j -75.5929 +8.6430e-15j]\n",
      " [-61.3621 +2.9550e+01j -75.5929 +8.6430e-15j]\n",
      " [-61.3621 +2.9550e+01j -75.5929 +8.6430e-15j]\n",
      " [-61.3621 +2.9550e+01j -75.5929 +8.6430e-15j]]\n",
      "\n",
      "Calculated Results:\n",
      "[[-61.3621-29.5505j]\n",
      " [-61.3621-29.5505j]\n",
      " [-61.3621-29.5505j]\n",
      " [-61.3621-29.5505j]\n",
      " [-61.3621-29.5505j]\n",
      " [-61.3621-29.5505j]\n",
      " [-61.3621-29.5505j]\n",
      " [-61.3621-29.5505j]\n",
      " [-61.3621-29.5505j]\n",
      " [-61.3621-29.5505j]]\n",
      "\n",
      "Obtaining E[2]\n",
      "[[-75.5929 +8.6430e-15j -61.3621 -2.9550e+01j]\n",
      " [-75.5929 +8.6430e-15j -61.3621 -2.9550e+01j]\n",
      " [-75.5929 +8.6430e-15j -61.3621 -2.9550e+01j]\n",
      " [-75.5929 +8.6430e-15j -61.3621 -2.9550e+01j]\n",
      " [-75.5929 +8.6430e-15j -61.3621 -2.9550e+01j]\n",
      " [-75.5929 +8.6430e-15j -61.3621 -2.9550e+01j]\n",
      " [-75.5929 +8.6430e-15j -61.3621 -2.9550e+01j]\n",
      " [-75.5929 +8.6430e-15j -61.3621 -2.9550e+01j]\n",
      " [-75.5929 +8.6430e-15j -61.3621 -2.9550e+01j]\n",
      " [-75.5929 +8.6430e-15j -61.3621 -2.9550e+01j]]\n",
      "\n",
      "Calculated Results:\n",
      "[[-29.3859-36.8488j]\n",
      " [-29.3859-36.8488j]\n",
      " [-29.3859-36.8488j]\n",
      " [-29.3859-36.8488j]\n",
      " [-29.3859-36.8488j]\n",
      " [-29.3859-36.8488j]\n",
      " [-29.3859-36.8488j]\n",
      " [-29.3859-36.8488j]\n",
      " [-29.3859-36.8488j]\n",
      " [-29.3859-36.8488j]]\n",
      "\n"
     ]
    }
   ],
   "source": [
    "# now let's find the whole E and also epsilon\n",
    "E_1=obtain_E(alpha, E_2, s)\n",
    "# concatenate E_1 and E_2 to obtain E\n",
    "E = np.concatenate((E_1, E_2), axis=0)\n",
    "\n",
    "epsilon = obtain_epsilon(E)\n",
    "\n",
    "#print(epsilon)"
   ]
  },
  {
   "cell_type": "markdown",
   "metadata": {},
   "source": [
    "## finally let's look at the epsilon matrix we get"
   ]
  },
  {
   "cell_type": "code",
   "execution_count": 27,
   "metadata": {},
   "outputs": [
    {
     "name": "stdout",
     "output_type": "stream",
     "text": [
      "[[ -3.7796e+01 -7.5910e-14j  -3.7796e+01 -7.5910e-14j  -3.7796e+01 -7.5910e-14j  -3.7796e+01 -7.5910e-14j  -3.7796e+01 -7.5910e-14j  -3.7796e+01 -7.5910e-14j  -3.7796e+01 -7.5910e-14j\n",
      "   -3.7796e+01 -7.5910e-14j  -3.7796e+01 -7.5910e-14j  -3.7796e+01 -7.5910e-14j]\n",
      " [  4.4663e-14 -7.8539e-14j   4.4663e-14 -7.8539e-14j   4.4663e-14 -7.8539e-14j   4.4663e-14 -7.8539e-14j   4.4663e-14 -7.8539e-14j   4.4663e-14 -7.8539e-14j   4.4663e-14 -7.8539e-14j\n",
      "    4.4663e-14 -7.8539e-14j   4.4663e-14 -7.8539e-14j   4.4663e-14 -7.8539e-14j]\n",
      " [  3.3116e-14 +4.4695e-14j   3.3116e-14 +4.4695e-14j   3.3116e-14 +4.4695e-14j   3.3116e-14 +4.4695e-14j   3.3116e-14 +4.4695e-14j   3.3116e-14 +4.4695e-14j   3.3116e-14 +4.4695e-14j\n",
      "    3.3116e-14 +4.4695e-14j   3.3116e-14 +4.4695e-14j   3.3116e-14 +4.4695e-14j]\n",
      " [ -5.1483e-14 +2.0802e-15j  -5.1483e-14 +2.0802e-15j  -5.1483e-14 +2.0802e-15j  -5.1483e-14 +2.0802e-15j  -5.1483e-14 +2.0802e-15j  -5.1483e-14 +2.0802e-15j  -5.1483e-14 +2.0802e-15j\n",
      "   -5.1483e-14 +2.0802e-15j  -5.1483e-14 +2.0802e-15j  -5.1483e-14 +2.0802e-15j]\n",
      " [  3.0737e-14 -4.7669e-14j   3.0737e-14 -4.7669e-14j   3.0737e-14 -4.7669e-14j   3.0737e-14 -4.7669e-14j   3.0737e-14 -4.7669e-14j   3.0737e-14 -4.7669e-14j   3.0737e-14 -4.7669e-14j\n",
      "    3.0737e-14 -4.7669e-14j   3.0737e-14 -4.7669e-14j   3.0737e-14 -4.7669e-14j]\n",
      " [  5.0372e-14 +7.3030e-14j   5.0372e-14 +7.3030e-14j   5.0372e-14 +7.3030e-14j   5.0372e-14 +7.3030e-14j   5.0372e-14 +7.3030e-14j   5.0372e-14 +7.3030e-14j   5.0372e-14 +7.3030e-14j\n",
      "    5.0372e-14 +7.3030e-14j   5.0372e-14 +7.3030e-14j   5.0372e-14 +7.3030e-14j]\n",
      " [ -3.7796e+01 +9.0956e-14j  -3.7796e+01 +9.0956e-14j  -3.7796e+01 +9.0956e-14j  -3.7796e+01 +9.0956e-14j  -3.7796e+01 +9.0956e-14j  -3.7796e+01 +9.0956e-14j  -3.7796e+01 +9.0956e-14j\n",
      "   -3.7796e+01 +9.0956e-14j  -3.7796e+01 +9.0956e-14j  -3.7796e+01 +9.0956e-14j]]\n"
     ]
    }
   ],
   "source": [
    "print(epsilon)"
   ]
  },
  {
   "cell_type": "markdown",
   "metadata": {},
   "source": [
    "## we if we give it a factor? say sqrt(n)"
   ]
  },
  {
   "cell_type": "code",
   "execution_count": 28,
   "metadata": {},
   "outputs": [
    {
     "name": "stdout",
     "output_type": "stream",
     "text": [
      "[[ -1.0000e+02 -2.0084e-13j  -1.0000e+02 -2.0084e-13j  -1.0000e+02 -2.0084e-13j  -1.0000e+02 -2.0084e-13j  -1.0000e+02 -2.0084e-13j  -1.0000e+02 -2.0084e-13j  -1.0000e+02 -2.0084e-13j\n",
      "   -1.0000e+02 -2.0084e-13j  -1.0000e+02 -2.0084e-13j  -1.0000e+02 -2.0084e-13j]\n",
      " [  1.1817e-13 -2.0779e-13j   1.1817e-13 -2.0779e-13j   1.1817e-13 -2.0779e-13j   1.1817e-13 -2.0779e-13j   1.1817e-13 -2.0779e-13j   1.1817e-13 -2.0779e-13j   1.1817e-13 -2.0779e-13j\n",
      "    1.1817e-13 -2.0779e-13j   1.1817e-13 -2.0779e-13j   1.1817e-13 -2.0779e-13j]\n",
      " [  8.7618e-14 +1.1825e-13j   8.7618e-14 +1.1825e-13j   8.7618e-14 +1.1825e-13j   8.7618e-14 +1.1825e-13j   8.7618e-14 +1.1825e-13j   8.7618e-14 +1.1825e-13j   8.7618e-14 +1.1825e-13j\n",
      "    8.7618e-14 +1.1825e-13j   8.7618e-14 +1.1825e-13j   8.7618e-14 +1.1825e-13j]\n",
      " [ -1.3621e-13 +5.5038e-15j  -1.3621e-13 +5.5038e-15j  -1.3621e-13 +5.5038e-15j  -1.3621e-13 +5.5038e-15j  -1.3621e-13 +5.5038e-15j  -1.3621e-13 +5.5038e-15j  -1.3621e-13 +5.5038e-15j\n",
      "   -1.3621e-13 +5.5038e-15j  -1.3621e-13 +5.5038e-15j  -1.3621e-13 +5.5038e-15j]\n",
      " [  8.1323e-14 -1.2612e-13j   8.1323e-14 -1.2612e-13j   8.1323e-14 -1.2612e-13j   8.1323e-14 -1.2612e-13j   8.1323e-14 -1.2612e-13j   8.1323e-14 -1.2612e-13j   8.1323e-14 -1.2612e-13j\n",
      "    8.1323e-14 -1.2612e-13j   8.1323e-14 -1.2612e-13j   8.1323e-14 -1.2612e-13j]\n",
      " [  1.3327e-13 +1.9322e-13j   1.3327e-13 +1.9322e-13j   1.3327e-13 +1.9322e-13j   1.3327e-13 +1.9322e-13j   1.3327e-13 +1.9322e-13j   1.3327e-13 +1.9322e-13j   1.3327e-13 +1.9322e-13j\n",
      "    1.3327e-13 +1.9322e-13j   1.3327e-13 +1.9322e-13j   1.3327e-13 +1.9322e-13j]\n",
      " [ -1.0000e+02 +2.4065e-13j  -1.0000e+02 +2.4065e-13j  -1.0000e+02 +2.4065e-13j  -1.0000e+02 +2.4065e-13j  -1.0000e+02 +2.4065e-13j  -1.0000e+02 +2.4065e-13j  -1.0000e+02 +2.4065e-13j\n",
      "   -1.0000e+02 +2.4065e-13j  -1.0000e+02 +2.4065e-13j  -1.0000e+02 +2.4065e-13j]]\n"
     ]
    }
   ],
   "source": [
    "print(np.sqrt(n)*epsilon)"
   ]
  },
  {
   "cell_type": "code",
   "execution_count": 29,
   "metadata": {},
   "outputs": [
    {
     "name": "stdout",
     "output_type": "stream",
     "text": [
      "[[ -1.0000e+02 +2.4065e-13j  -1.0000e+02 +2.4065e-13j  -1.0000e+02 +2.4065e-13j  -1.0000e+02 +2.4065e-13j  -1.0000e+02 +2.4065e-13j  -1.0000e+02 +2.4065e-13j  -1.0000e+02 +2.4065e-13j\n",
      "   -1.0000e+02 +2.4065e-13j  -1.0000e+02 +2.4065e-13j  -1.0000e+02 +2.4065e-13j]\n",
      " [ -1.0000e+02 -2.0084e-13j  -1.0000e+02 -2.0084e-13j  -1.0000e+02 -2.0084e-13j  -1.0000e+02 -2.0084e-13j  -1.0000e+02 -2.0084e-13j  -1.0000e+02 -2.0084e-13j  -1.0000e+02 -2.0084e-13j\n",
      "   -1.0000e+02 -2.0084e-13j  -1.0000e+02 -2.0084e-13j  -1.0000e+02 -2.0084e-13j]\n",
      " [  1.1817e-13 -2.0779e-13j   1.1817e-13 -2.0779e-13j   1.1817e-13 -2.0779e-13j   1.1817e-13 -2.0779e-13j   1.1817e-13 -2.0779e-13j   1.1817e-13 -2.0779e-13j   1.1817e-13 -2.0779e-13j\n",
      "    1.1817e-13 -2.0779e-13j   1.1817e-13 -2.0779e-13j   1.1817e-13 -2.0779e-13j]\n",
      " [  8.7618e-14 +1.1825e-13j   8.7618e-14 +1.1825e-13j   8.7618e-14 +1.1825e-13j   8.7618e-14 +1.1825e-13j   8.7618e-14 +1.1825e-13j   8.7618e-14 +1.1825e-13j   8.7618e-14 +1.1825e-13j\n",
      "    8.7618e-14 +1.1825e-13j   8.7618e-14 +1.1825e-13j   8.7618e-14 +1.1825e-13j]\n",
      " [ -1.3621e-13 +5.5038e-15j  -1.3621e-13 +5.5038e-15j  -1.3621e-13 +5.5038e-15j  -1.3621e-13 +5.5038e-15j  -1.3621e-13 +5.5038e-15j  -1.3621e-13 +5.5038e-15j  -1.3621e-13 +5.5038e-15j\n",
      "   -1.3621e-13 +5.5038e-15j  -1.3621e-13 +5.5038e-15j  -1.3621e-13 +5.5038e-15j]\n",
      " [  8.1323e-14 -1.2612e-13j   8.1323e-14 -1.2612e-13j   8.1323e-14 -1.2612e-13j   8.1323e-14 -1.2612e-13j   8.1323e-14 -1.2612e-13j   8.1323e-14 -1.2612e-13j   8.1323e-14 -1.2612e-13j\n",
      "    8.1323e-14 -1.2612e-13j   8.1323e-14 -1.2612e-13j   8.1323e-14 -1.2612e-13j]\n",
      " [  1.3327e-13 +1.9322e-13j   1.3327e-13 +1.9322e-13j   1.3327e-13 +1.9322e-13j   1.3327e-13 +1.9322e-13j   1.3327e-13 +1.9322e-13j   1.3327e-13 +1.9322e-13j   1.3327e-13 +1.9322e-13j\n",
      "    1.3327e-13 +1.9322e-13j   1.3327e-13 +1.9322e-13j   1.3327e-13 +1.9322e-13j]]\n"
     ]
    }
   ],
   "source": [
    "# let's try to fix it\n",
    "tmp = np.sqrt(n)*epsilon\n",
    "a = np.roll(tmp, s-1, axis=0)\n",
    "print(a)"
   ]
  },
  {
   "cell_type": "code",
   "execution_count": 20,
   "metadata": {},
   "outputs": [
    {
     "name": "stdout",
     "output_type": "stream",
     "text": [
      "n=45, s=5\n"
     ]
    }
   ],
   "source": [
    "print(\"n=45, s=5\")"
   ]
  },
  {
   "cell_type": "markdown",
   "metadata": {},
   "source": [
    "Polynomial solved from numpy:\n",
    "[-0.1736-0.9848j  2.1494+4.4068j -6.4977-7.2164j  8.2351+5.1459j -4.7131-1.3515j  1.0000+0.j    ]\n",
    "\n",
    "Our Polynomial: \n",
    "[-0.4320-0.4451j  2.5277+2.1336j -6.1050-3.8598j  7.3693+3.0851j -4.3599-0.9137j  1.0000+0.j    ]\n"
   ]
  },
  {
   "cell_type": "markdown",
   "metadata": {},
   "source": [
    "Polynomial solved from numpy:\n",
    "[-0.1736-0.9848j  2.1494+4.4068j -6.4977-7.2164j  8.2351+5.1459j -4.7131-1.3515j  1.0000+0.j    ]\n",
    "\n",
    "Our Polynomial: \n",
    "[-0.2295+1.8293j -0.6282-6.0499j  1.6318+6.3744j  0.6011-1.9989j -2.3748-0.1552j  1.0000+0.j    ]\n"
   ]
  },
  {
   "cell_type": "code",
   "execution_count": 22,
   "metadata": {},
   "outputs": [
    {
     "name": "stdout",
     "output_type": "stream",
     "text": [
      "n=45, s=4\n"
     ]
    }
   ],
   "source": [
    "print(\"n=45, s=4\")"
   ]
  },
  {
   "cell_type": "markdown",
   "metadata": {},
   "source": [
    "Polynomial solved from numpy:\n",
    "[ 0.6691+0.7431j -3.1968-2.3226j  5.3927+2.401j  -3.8651-0.8215j  1.0000+0.j    ]\n",
    "\n",
    "Our Polynomial: \n",
    "[ 0.6693+0.7437j -3.1977-2.3242j  5.3939+2.4023j -3.8656-0.8219j  1.0000+0.j    ]\n"
   ]
  },
  {
   "cell_type": "code",
   "execution_count": 21,
   "metadata": {},
   "outputs": [
    {
     "name": "stdout",
     "output_type": "stream",
     "text": [
      "n=45, s=3\n"
     ]
    }
   ],
   "source": [
    "print(\"n=45, s=3\")"
   ]
  },
  {
   "cell_type": "markdown",
   "metadata": {},
   "source": [
    "Polynomial solved from numpy:\n",
    "[-0.9135-0.4067j  2.8651+0.8215j -2.9515-0.4148j  1.0000+0.j    ]\n",
    "\n",
    "Our Polynomial: \n",
    "[-0.9135-0.4068j  2.8651+0.8216j -2.9515-0.4148j  1.0000+0.j    ]\n"
   ]
  },
  {
   "cell_type": "code",
   "execution_count": 23,
   "metadata": {},
   "outputs": [
    {
     "name": "stdout",
     "output_type": "stream",
     "text": [
      "n=45, s=2\n"
     ]
    }
   ],
   "source": [
    "print(\"n=45, s=2\")"
   ]
  },
  {
   "cell_type": "markdown",
   "metadata": {},
   "source": [
    "Polynomial solved from numpy:\n",
    "[ 0.9903+0.1392j -1.9903-0.1392j  1.0000+0.j    ]\n",
    "\n",
    "Our Polynomial: \n",
    "[ 0.9903+0.1392j -1.9903-0.1392j  1.0000+0.j    ]\n"
   ]
  },
  {
   "cell_type": "code",
   "execution_count": null,
   "metadata": {
    "collapsed": true
   },
   "outputs": [],
   "source": []
  }
 ],
 "metadata": {
  "kernelspec": {
   "display_name": "Python 2",
   "language": "python",
   "name": "python2"
  },
  "language_info": {
   "codemirror_mode": {
    "name": "ipython",
    "version": 2
   },
   "file_extension": ".py",
   "mimetype": "text/x-python",
   "name": "python",
   "nbconvert_exporter": "python",
   "pygments_lexer": "ipython2",
   "version": "2.7.13"
  }
 },
 "nbformat": 4,
 "nbformat_minor": 2
}
