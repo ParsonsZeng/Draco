{
 "cells": [
  {
   "cell_type": "code",
   "execution_count": 2,
   "metadata": {
    "collapsed": true
   },
   "outputs": [],
   "source": [
    "from coding import *\n",
    "import numpy as np"
   ]
  },
  {
   "cell_type": "markdown",
   "metadata": {},
   "source": [
    "# n=45, s=5, d=1"
   ]
  },
  {
   "cell_type": "code",
   "execution_count": 43,
   "metadata": {},
   "outputs": [
    {
     "name": "stdout",
     "output_type": "stream",
     "text": [
      "real poly a :\n",
      "[ 0.6234898+0.78183148j -1.6234898-0.78183148j  1.0000000+0.j        ]\n",
      "\n",
      "our poly a:\n",
      "[ 0.6234898+0.78183148j -1.6234898-0.78183148j  0.0000000+0.j        ]\n",
      "\n",
      "recovered E:\n",
      "[[  53.10111881 -1.06581410e-14j]\n",
      " [-129.31368728 -6.22741897e+01j]\n",
      " [ 194.35953656 +2.43719150e+02j]\n",
      " [  -2.62933196 -1.15198560e+01j]\n",
      " [  -2.62933196 +1.15198560e+01j]\n",
      " [ -20.64250413 +2.58848814e+01j]\n",
      " [ -43.10456243 +2.07580632e+01j]]\n",
      "\n",
      "[[ -2.62933196-11.51985599j]\n",
      " [ -2.62933196+11.51985599j]\n",
      " [-20.64250413+25.88488145j]\n",
      " [-43.10456243+20.75806322j]]\n",
      "\n",
      "correct E: \n",
      "[[  1.14121737e+01 -5.00000000e+01j]\n",
      " [ -6.04376959e+01 -1.40096887e+02j]\n",
      " [ -2.15549609e+02 -9.00968868e+01j]\n",
      " [ -2.15549609e+02 +9.00968868e+01j]\n",
      " [ -6.04376959e+01 +1.40096887e+02j]\n",
      " [  1.14121737e+01 +5.00000000e+01j]\n",
      " [  3.20375771e-14 +1.59026902e-14j]]\n",
      "epsilon: \n",
      "[[-100.+0.j]\n",
      " [-100.+0.j]\n",
      " [   0.+0.j]\n",
      " [   0.+0.j]\n",
      " [   0.+0.j]\n",
      " [   0.+0.j]\n",
      " [   0.+0.j]]\n"
     ]
    }
   ],
   "source": [
    "from scipy import linalg as LA\n",
    "\n",
    "def obtain_E(alpha, E_2, n, s):\n",
    "    # obtain E_1 in shape of n-2s by d\n",
    "    _tmp_y = np.zeros((E_2.shape[1], n-s), dtype=complex)\n",
    "    _tmp_y[:,0:s] = np.transpose(E_2)[:, -s:]\n",
    "    for i in range(n-2*s):\n",
    "        tmp = np.dot(_tmp_y[:,i:s+i], alpha)\n",
    "        _tmp_y[:,s+i] = tmp.reshape(-1)\n",
    "    return np.transpose(_tmp_y[:, s:])\n",
    "\n",
    "def _array_getH(ndarray):\n",
    "    # get conjugate transpose of a np.ndarray\n",
    "    return ndarray.conj().T\n",
    "\n",
    "d=1\n",
    "n=7\n",
    "s=2\n",
    "\n",
    "_poly_a = np.zeros(s+1, dtype=complex)\n",
    "\n",
    "W, fake_W, W_perp, S, C_1 = search_w(n=n, s=s)\n",
    "simulated_G = np.random.randn(n, d)\n",
    "simulated_adv = np.zeros((n, d),dtype=complex)\n",
    "\n",
    "simulated_adv[0:2,:] = -100+0j\n",
    "\n",
    "simulated_R = np.dot(W, simulated_G) + simulated_adv\n",
    "random_vec = np.random.randn(d, 1)\n",
    "\n",
    "R_1 = np.dot(simulated_R, random_vec)\n",
    "\n",
    "E_2 = np.dot(W_perp, R_1)\n",
    "\n",
    "_X_v3 = np.take(E_2, np.array([range(-i-(s+1), -i-2+1) for i in range(s)]))\n",
    "tmp_y = np.take(E_2, np.array([-i-1 for i in range(s)]), axis=0)\n",
    "\n",
    "alpha = LA.solve_toeplitz((_X_v3[:,0],_X_v3[0,:]), tmp_y)\n",
    "\n",
    "_poly_a[0:s] = -alpha.reshape(-1)\n",
    "\n",
    "recovered_E1 = obtain_E(-alpha, E_2, n, s)\n",
    "recovered_E = np.concatenate((recovered_E1, E_2), axis=0)\n",
    "\n",
    "# let's generate true alpha\n",
    "roots = [np.exp(2*np.pi*i*1j/n) for i in range(s)]\n",
    "np_poly=P.polyfromroots(roots)\n",
    "\n",
    "\n",
    "print(\"real poly a :\")\n",
    "print(np_poly)\n",
    "print\n",
    "print(\"our poly a:\")\n",
    "print(_poly_a)\n",
    "print\n",
    "print(\"recovered E:\")\n",
    "print(recovered_E)\n",
    "print\n",
    "print(E_2)\n",
    "print\n",
    "print(\"correct E: \")\n",
    "print(np.dot(_array_getH(W), simulated_adv))\n",
    "print(\"epsilon: \")\n",
    "print(simulated_adv)"
   ]
  },
  {
   "cell_type": "code",
   "execution_count": null,
   "metadata": {
    "collapsed": true
   },
   "outputs": [],
   "source": []
  }
 ],
 "metadata": {
  "kernelspec": {
   "display_name": "Python 2",
   "language": "python",
   "name": "python2"
  },
  "language_info": {
   "codemirror_mode": {
    "name": "ipython",
    "version": 2
   },
   "file_extension": ".py",
   "mimetype": "text/x-python",
   "name": "python",
   "nbconvert_exporter": "python",
   "pygments_lexer": "ipython2",
   "version": "2.7.13"
  }
 },
 "nbformat": 4,
 "nbformat_minor": 2
}
