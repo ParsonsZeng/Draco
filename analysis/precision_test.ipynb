{
 "cells": [
  {
   "cell_type": "code",
   "execution_count": 2,
   "metadata": {
    "collapsed": true
   },
   "outputs": [],
   "source": [
    "from coding import *\n",
    "import numpy as np"
   ]
  },
  {
   "cell_type": "markdown",
   "metadata": {},
   "source": [
    "# n=45, s=2, d=1"
   ]
  },
  {
   "cell_type": "code",
   "execution_count": 3,
   "metadata": {},
   "outputs": [
    {
     "name": "stdout",
     "output_type": "stream",
     "text": [
      "[(0.9902680679767230413121403 + 0.1391730995353912744873454j)]\n",
      "[ (-1.99026806789378627786873 - 0.1391730996145090608984356j)]\n",
      "-----------------------------------------------------\n",
      "[ 0.99026807+0.1391731j -1.99026807-0.1391731j  1.00000000+0.j       ]\n",
      "=====================================================\n"
     ]
    }
   ],
   "source": [
    "d=1\n",
    "n=45\n",
    "s=2\n",
    "mp.dps = 25\n",
    "W, fake_W, W_perp, C_1 = search_w_mp(n=n, s=s)\n",
    "simulated_G = mp.randmatrix(n, d)\n",
    "simulated_adv = mp.zeros(n, d)\n",
    "simulated_adv[0:2,:] = -100\n",
    "\n",
    "simulated_R = W * simulated_G + simulated_adv\n",
    "random_vec = mp.randmatrix(d, 1)\n",
    "\n",
    "R_1 = simulated_R * random_vec\n",
    "\n",
    "E_2 = W_perp * R_1\n",
    "\n",
    "E_matrix = mp.zeros(s, s)\n",
    "E_b = mp.zeros(s, 1)\n",
    "\n",
    "for i in range(s):\n",
    "    E_matrix[i,:] = E_2[2*s-i-s-1:2*s-i-1].transpose()\n",
    "    E_b[i] = E_2[2*s-i-1]\n",
    "\n",
    "alpha=mp.lu_solve(E_matrix, E_b)\n",
    "print(-1*alpha)\n",
    "print(\"-----------------------------------------------------\")\n",
    "\n",
    "# let's generate true alpha\n",
    "roots = [np.exp(2*np.pi*i*1j/n) for i in range(s)]\n",
    "np_poly=P.polyfromroots(roots)\n",
    "print(np_poly)\n",
    "print(\"=====================================================\")"
   ]
  },
  {
   "cell_type": "markdown",
   "metadata": {},
   "source": [
    "# n=45, s=4, d=1"
   ]
  },
  {
   "cell_type": "code",
   "execution_count": 6,
   "metadata": {},
   "outputs": [
    {
     "name": "stdout",
     "output_type": "stream",
     "text": [
      "[  (0.9184535681958170663555515 + 0.1291831839979683493125996j)]\n",
      "[ (-0.4892494405489177560098457 + 0.1494915595063512135687547j)]\n",
      "[ (-0.8212291612382202905781961 - 0.2267494186147808579040751j)]\n",
      "[(-0.6079749652451070191488674 - 0.05192532422769364548398816j)]\n",
      "-----------------------------------------------------\n",
      "[ 0.66913061+0.74314483j -3.19676860-2.32258834j  5.39271322+2.40099062j\n",
      " -3.86507522-0.8215471j   1.00000000+0.j        ]\n",
      "=====================================================\n"
     ]
    }
   ],
   "source": [
    "d=1\n",
    "n=45\n",
    "s=4\n",
    "mp.dps = 100\n",
    "W, fake_W, W_perp, C_1 = search_w_mp(n=n, s=s)\n",
    "simulated_G = mp.randmatrix(n, d)\n",
    "simulated_adv = mp.zeros(n, d)\n",
    "simulated_adv[0:2,:] = -100\n",
    "\n",
    "simulated_R = W * simulated_G + simulated_adv\n",
    "random_vec = mp.randmatrix(d, 1)\n",
    "\n",
    "R_1 = simulated_R * random_vec\n",
    "\n",
    "E_2 = W_perp * R_1\n",
    "\n",
    "E_matrix = mp.zeros(s, s)\n",
    "E_b = mp.zeros(s, 1)\n",
    "\n",
    "for i in range(s):\n",
    "    E_matrix[i,:] = E_2[2*s-i-s-1:2*s-i-1].transpose()\n",
    "    E_b[i] = E_2[2*s-i-1]\n",
    "\n",
    "alpha=mp.lu_solve(E_matrix, E_b)\n",
    "print(-1*alpha)\n",
    "print(\"-----------------------------------------------------\")\n",
    "\n",
    "# let's generate true alpha\n",
    "roots = [np.exp(2*np.pi*i*1j/n) for i in range(s)]\n",
    "np_poly=P.polyfromroots(roots)\n",
    "print(np_poly)\n",
    "print(\"=====================================================\")"
   ]
  }
 ],
 "metadata": {
  "kernelspec": {
   "display_name": "Python 2",
   "language": "python",
   "name": "python2"
  },
  "language_info": {
   "codemirror_mode": {
    "name": "ipython",
    "version": 2
   },
   "file_extension": ".py",
   "mimetype": "text/x-python",
   "name": "python",
   "nbconvert_exporter": "python",
   "pygments_lexer": "ipython2",
   "version": "2.7.13"
  }
 },
 "nbformat": 4,
 "nbformat_minor": 2
}
