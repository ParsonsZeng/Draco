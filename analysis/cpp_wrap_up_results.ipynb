{
 "cells": [
  {
   "cell_type": "code",
   "execution_count": 1,
   "metadata": {
    "collapsed": true
   },
   "outputs": [],
   "source": [
    "import numpy as np\n",
    "from numpy.polynomial import polynomial as P\n",
    "import coding\n",
    "from py_coding import search_w"
   ]
  },
  {
   "cell_type": "markdown",
   "metadata": {},
   "source": [
    "# n=45, s=5"
   ]
  },
  {
   "cell_type": "code",
   "execution_count": 4,
   "metadata": {},
   "outputs": [
    {
     "name": "stdout",
     "output_type": "stream",
     "text": [
      "Correct Polynomial: \n",
      "[-0.17364818-0.98480775j  2.14935983+4.40684071j -6.49771760-7.21644649j\n",
      "  8.23512927+5.14587989j -4.71312332-1.35146636j]\n",
      "-----------------------------------------------------\n",
      "\n",
      "Cpp Solved Polynomial: \n",
      "[[-0.24846015-0.99151118j]\n",
      " [ 2.43265612+4.35260474j]\n",
      " [-6.87423697-7.02626205j]\n",
      " [ 8.43943066+4.95695022j]\n",
      " [-4.74938237-1.29177304j]]\n",
      "=====================================================\n"
     ]
    },
    {
     "name": "stderr",
     "output_type": "stream",
     "text": [
      "/home/hwang/anaconda2/lib/python2.7/site-packages/ipykernel_launcher.py:10: ComplexWarning: Casting complex values to real discards the imaginary part\n",
      "  # Remove the CWD from sys.path while we load stuff.\n"
     ]
    }
   ],
   "source": [
    "n=45\n",
    "s=5\n",
    "\n",
    "W, fake_W, W_perp, S, C_1, C = search_w(n=n, s=s)\n",
    "\n",
    "G = np.random.randn(n, 1)\n",
    "R = np.dot(W, G)\n",
    "\n",
    "simulated_adv = np.zeros((n, 1))\n",
    "simulated_adv[0:s,:] = -100+0j\n",
    "R += simulated_adv\n",
    "\n",
    "roots = [np.exp(2*np.pi*i*1j/n) for i in range(s)]\n",
    "np_poly=P.polyfromroots(roots)\n",
    "print(\"Correct Polynomial: \")\n",
    "print(np_poly[0:-1])\n",
    "print(\"-----------------------------------------------------\")\n",
    "print\n",
    "\n",
    "print(\"Cpp Solved Polynomial: \")\n",
    "poly_a = coding.solve_poly_a(n=n, s=s, R=R)\n",
    "print(poly_a*-1)\n",
    "print('=====================================================')"
   ]
  },
  {
   "cell_type": "markdown",
   "metadata": {},
   "source": [
    "# n=45, s=15"
   ]
  },
  {
   "cell_type": "code",
   "execution_count": 5,
   "metadata": {},
   "outputs": [
    {
     "name": "stdout",
     "output_type": "stream",
     "text": [
      "[  5.00000000e-01 -8.66025404e-01j   5.44237013e+00 +1.11585124e+01j\n",
      "  -7.32348503e+01 -1.02924870e+01j   1.87555218e+02 -2.08301173e+02j\n",
      "   1.82822152e+02 +7.33259601e+02j  -1.44231143e+03 -5.24958428e+02j\n",
      "   1.96238886e+03 -1.42575896e+03j   1.05987826e+02 +3.03509422e+03j\n",
      "  -2.57547479e+03 -1.60933526e+03j   2.21593791e+03 -9.86599123e+02j\n",
      "  -2.66528379e+02 +1.51155755e+03j  -5.43610366e+02 -5.24958428e+02j\n",
      "   2.74171716e+02 -5.82769973e+01j  -2.77038699e+01 +6.85694843e+01j\n",
      "  -6.94237013e+00 -1.02924870e+01j]\n",
      "-----------------------------------------------------\n",
      "\n",
      "[[ -6.78023755e-01  +2.21519804j]\n",
      " [ -1.32145615e+01 -16.58109547j]\n",
      " [  9.31916155e+01  -7.53501433j]\n",
      " [ -1.23943523e+02+225.76005019j]\n",
      " [ -2.31912064e+02-423.33369267j]\n",
      " [  6.21469431e+02 +20.52957992j]\n",
      " [ -2.22417127e+02+454.67609961j]\n",
      " [ -2.29919378e+02 -15.24310237j]\n",
      " [ -2.95416349e+02-390.99721569j]\n",
      " [  6.96143664e+02-195.27196581j]\n",
      " [ -1.61617279e+02+638.71934976j]\n",
      " [ -2.88962345e+02-302.0353194j ]\n",
      " [  1.84703246e+02 -35.19904327j]\n",
      " [ -2.22623090e+01 +53.51087022j]\n",
      " [ -6.16498749e+00  -9.21469996j]]\n",
      "=====================================================\n"
     ]
    },
    {
     "name": "stderr",
     "output_type": "stream",
     "text": [
      "/home/hwang/anaconda2/lib/python2.7/site-packages/ipykernel_launcher.py:10: ComplexWarning: Casting complex values to real discards the imaginary part\n",
      "  # Remove the CWD from sys.path while we load stuff.\n"
     ]
    }
   ],
   "source": [
    "n=45\n",
    "s=15\n",
    "\n",
    "W, fake_W, W_perp, S, C_1, C = search_w(n=n, s=s)\n",
    "\n",
    "G = np.random.randn(n, 1)\n",
    "R = np.dot(W, G)\n",
    "\n",
    "simulated_adv = np.zeros((n, 1))\n",
    "simulated_adv[0:s,:] = -100+0j\n",
    "R += simulated_adv\n",
    "\n",
    "roots = [np.exp(2*np.pi*i*1j/n) for i in range(s)]\n",
    "np_poly=P.polyfromroots(roots)\n",
    "print(np_poly[0:-1])\n",
    "print(\"-----------------------------------------------------\")\n",
    "print\n",
    "\n",
    "poly_a = coding.solve_poly_a(n=n, s=s, R=R)\n",
    "print(poly_a*-1)\n",
    "print('=====================================================')"
   ]
  },
  {
   "cell_type": "markdown",
   "metadata": {},
   "source": [
    "# n=45, s=21"
   ]
  },
  {
   "cell_type": "code",
   "execution_count": 6,
   "metadata": {},
   "outputs": [
    {
     "name": "stdout",
     "output_type": "stream",
     "text": [
      "[  5.00000000e-01 +8.66025404e-01j  -1.33972495e+01 +4.87620006e+00j\n",
      "  -1.75184717e+01 -9.93521900e+01j   4.70815979e+02 -5.40012479e-13j\n",
      "  -2.82091288e+02 +1.59981919e+03j  -4.13827585e+03 -1.50620923e+03j\n",
      "   4.86575807e+03 -8.42774019e+03j   1.37516818e+04 +1.15390311e+04j\n",
      "  -2.15139582e+04 +1.80523544e+04j  -1.88256429e+04 -3.26069700e+04j\n",
      "   4.09045473e+04 -1.48880376e+04j   7.55885481e+03 +4.28683959e+04j\n",
      "  -3.76512858e+04 +1.99151806e-11j   4.87681840e+03 -2.76578115e+04j\n",
      "   1.68689350e+04 +6.13979022e+03j  -4.86575807e+03 +8.42774019e+03j\n",
      "  -3.37355338e+03 -2.83074740e+03j   1.24443842e+03 -1.04420782e+03j\n",
      "   2.35407989e+02 +4.07738598e+02j  -9.48007563e+01 +3.45046535e+01j\n",
      "  -2.47571165e+00 -1.40404585e+01j]\n",
      "-----------------------------------------------------\n",
      "\n",
      "[[  4.97856469e-01 +8.65099965e-01j]\n",
      " [ -1.33907741e+01 +4.86649344e+00j]\n",
      " [ -1.74615539e+01 -9.92984453e+01j]\n",
      " [  4.70634320e+02 +1.33697796e-01j]\n",
      " [ -2.82424512e+02 +1.59915549e+03j]\n",
      " [ -4.13688482e+03 -1.50661871e+03j]\n",
      " [  4.86611599e+03 -8.42469050e+03j]\n",
      " [  1.37473392e+04 +1.15387616e+04j]\n",
      " [ -2.15124587e+04 +1.80459887e+04j]\n",
      " [ -1.88192964e+04 -3.26042098e+04j]\n",
      " [  4.09003344e+04 -1.48815952e+04j]\n",
      " [  7.55442393e+03 +4.28641975e+04j]\n",
      " [ -3.76472239e+04 -3.05250798e+00j]\n",
      " [  4.87814266e+03 -2.76551667e+04j]\n",
      " [  1.68671966e+04 +6.14032466e+03j]\n",
      " [ -4.86584348e+03 +8.42700887e+03j]\n",
      " [ -3.37323347e+03 -2.83073273e+03j]\n",
      " [  1.24442011e+03 -1.04413010e+03j]\n",
      " [  2.35387358e+02 +4.07730252e+02j]\n",
      " [ -9.47994144e+01 +3.45025984e+01j]\n",
      " [ -2.47545324e+00 -1.40402405e+01j]]\n",
      "=====================================================\n"
     ]
    },
    {
     "name": "stderr",
     "output_type": "stream",
     "text": [
      "/home/hwang/anaconda2/lib/python2.7/site-packages/ipykernel_launcher.py:10: ComplexWarning: Casting complex values to real discards the imaginary part\n",
      "  # Remove the CWD from sys.path while we load stuff.\n"
     ]
    }
   ],
   "source": [
    "n=45\n",
    "s=21\n",
    "\n",
    "W, fake_W, W_perp, S, C_1, C = search_w(n=n, s=s)\n",
    "\n",
    "G = np.random.randn(n, 1)\n",
    "R = np.dot(W, G)\n",
    "\n",
    "simulated_adv = np.zeros((n, 1))\n",
    "simulated_adv[0:s,:] = -100+0j\n",
    "R += simulated_adv\n",
    "\n",
    "roots = [np.exp(2*np.pi*i*1j/n) for i in range(s)]\n",
    "np_poly=P.polyfromroots(roots)\n",
    "print(np_poly[0:-1])\n",
    "print(\"-----------------------------------------------------\")\n",
    "print\n",
    "\n",
    "poly_a = coding.solve_poly_a(n=n, s=s, R=R)\n",
    "print(poly_a*-1)\n",
    "print('=====================================================')"
   ]
  }
 ],
 "metadata": {
  "kernelspec": {
   "display_name": "Python 2",
   "language": "python",
   "name": "python2"
  },
  "language_info": {
   "codemirror_mode": {
    "name": "ipython",
    "version": 2
   },
   "file_extension": ".py",
   "mimetype": "text/x-python",
   "name": "python",
   "nbconvert_exporter": "python",
   "pygments_lexer": "ipython2",
   "version": "2.7.13"
  }
 },
 "nbformat": 4,
 "nbformat_minor": 2
}
